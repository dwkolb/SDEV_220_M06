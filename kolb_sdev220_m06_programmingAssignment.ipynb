{
 "cells": [
  {
   "cell_type": "markdown",
   "id": "76396d8c",
   "metadata": {},
   "source": [
    "# M06 Programming Assignment 13.1 - 13.3\n",
    "#Things to do 13.1 - 13.3"
   ]
  },
  {
   "cell_type": "code",
   "execution_count": 12,
   "id": "d354a221",
   "metadata": {},
   "outputs": [
    {
     "name": "stdout",
     "output_type": "stream",
     "text": [
      "2023-11-28 00:00:00\n"
     ]
    }
   ],
   "source": [
    "from datetime import date, datetime\n",
    "\n",
    "# Things to do 13.1: Write the current date to a file\n",
    "now = date.today()\n",
    "now_str = now.isoformat()\n",
    "with open('today.txt', 'wt') as output:\n",
    "    print(now_str, file=output)\n",
    "\n",
    "# Things to do 13.2: Read the date from the file\n",
    "with open(\"today.txt\", 'rt') as input:\n",
    "    today_string = input.read()\n",
    "\n",
    "# Things to do 13.3: Parse the date string as a datetime object\n",
    "fmt = '%Y-%m-%d\\n'\n",
    "parsed_date = datetime.strptime(today_string, fmt)\n",
    "\n",
    "print(parsed_date)\n"
   ]
  }
 ],
 "metadata": {
  "kernelspec": {
   "display_name": "Python 3 (ipykernel)",
   "language": "python",
   "name": "python3"
  },
  "language_info": {
   "codemirror_mode": {
    "name": "ipython",
    "version": 3
   },
   "file_extension": ".py",
   "mimetype": "text/x-python",
   "name": "python",
   "nbconvert_exporter": "python",
   "pygments_lexer": "ipython3",
   "version": "3.11.5"
  }
 },
 "nbformat": 4,
 "nbformat_minor": 5
}
